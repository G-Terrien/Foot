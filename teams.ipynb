{
  "metadata": {
    "language_info": {
      "codemirror_mode": {
        "name": "python",
        "version": 3
      },
      "file_extension": ".py",
      "mimetype": "text/x-python",
      "name": "python",
      "nbconvert_exporter": "python",
      "pygments_lexer": "ipython3",
      "version": "3.8"
    },
    "kernelspec": {
      "name": "python",
      "display_name": "Python (Pyodide)",
      "language": "python"
    }
  },
  "nbformat_minor": 4,
  "nbformat": 4,
  "cells": [
    {
      "cell_type": "markdown",
      "source": "Equipe",
      "metadata": {}
    },
    {
      "cell_type": "code",
      "source": "import random\nimport pandas as pd\n\ndf = pd.read_csv(\"notes.csv\")\nliste = df[['Joueurs','Poste','Moyenne','Présent']].values.tolist()\ndf['Présent'] = df['Présent'].astype(bool)\n\nplayers = []\nfor element in liste:\n    if element[3]:\n        dictionnaire = {'name': element[0], 'position': element[1], 'level': 100*float(element[2].replace(',', '.'))}\n        players.append(dictionnaire)\n  \ndef createteam(players):\n    #création équipe random\n    leveldef1=100\n    leveldef2=0\n    #bruteforce pour générer \"toutes\" les équipes équilibrées en position sans ce soucier du niveau ou presque\n    #à améliorer/rationaliser\n    for i in range(1000):\n        random.shuffle(players)\n        #classement des joueurs\n        #players.sort(key=lambda x: x[\"level\"], reverse=True)\n        team1, team2 = {\"Goalkeeper\": [], \"Defender\": [], \"Midfielder\": [], \"Forward\": []}, {\"Goalkeeper\": [], \"Defender\": [], \"Midfielder\": [], \"Forward\": []}\n        # équilibrer en position\n        for player in players:\n            if len(team2[player[\"position\"]]) < len(team1[player[\"position\"]]) or (len(team1[\"Goalkeeper\"])+len(team1[\"Defender\"])+len(team1[\"Midfielder\"])+len(team1[\"Forward\"])) == 5:\n                team2[player[\"position\"]].append(player)\n            else:\n                team1[player[\"position\"]].append(player)\n        # Simplication de la structure\n        team1=team1[\"Goalkeeper\"]+team1[\"Defender\"]+team1[\"Midfielder\"]+team1[\"Forward\"]\n        team2=team2[\"Goalkeeper\"]+team2[\"Defender\"]+team2[\"Midfielder\"]+team2[\"Forward\"]\n        # Vérification de l'équlibre des niveaux (\n        level1=sum(player[\"level\"] for player in team1)\n        level2=sum(player[\"level\"] for player in team2)\n        if abs(level2-level1)<abs(leveldef1-leveldef2):\n            team1def,team2def = team1,team2\n            leveldef1,leveldef2 = level1,level2\n    return team1def,team2def,leveldef1,leveldef2\n\ndef afficher(team1,team2,leveldef1,leveldef2):\n    print(\"Team 1: \",leveldef1)\n    for player in team1:\n        print(f\"Nom: {player['name']}, Position: {player['position']}\")\n    print()\n    print(\"Team 2:\",leveldef2)\n    for player in team2:\n        print(f\"Name: {player['name']}, Position: {player['position']}\")\n    print()\n\nteams = createteam(players)\nafficher(teams[0],teams[1],teams[2],teams[3])\n",
      "metadata": {
        "trusted": true
      },
      "execution_count": 2,
      "outputs": [
        {
          "name": "stdout",
          "text": "[['Aurélien', 'Defender', '4,10', True], ['Maxime', 'Midfielder', '6,20', True], ['Yoyo', 'Defender', '6,07', True], ['Victor', 'Defender', '6,77', True], ['Pin Pon', 'Midfielder', '6,10', True], ['Gael', 'Midfielder', '6,13', True], ['Flow', 'Defender', '6,96', True], ['Sylvio', 'Forward', '4,90', True], ['Gigi', 'Forward', '6,08', True], ['Younès', 'Forward', '6,60', True], ['Stefen', 'Midfielder', '6,30', False], ['Dudu', 'Midfielder', '6,53', False], ['François', 'Midfielder', '7,10', False], ['Jean-gui', 'Midfielder', '7,64', False], ['Rémy', 'Defender', '7,28', False], ['Stan', 'Defender', '7,57', False], ['Mehdi', 'Forward', '6,92', False], ['Dadoo', 'Midfielder', '6,92', False]]\nTeam 1:  2996.0\nNom: Flow, Position: Defender\nNom: Aurélien, Position: Defender\nNom: Maxime, Position: Midfielder\nNom: Pin Pon, Position: Midfielder\nNom: Younès, Position: Forward\n\nTeam 2: 2995.0\nName: Victor, Position: Defender\nName: Yoyo, Position: Defender\nName: Gael, Position: Midfielder\nName: Gigi, Position: Forward\nName: Sylvio, Position: Forward\n\n",
          "output_type": "stream"
        }
      ]
    },
    {
      "cell_type": "code",
      "source": "",
      "metadata": {},
      "execution_count": null,
      "outputs": []
    }
  ]
}