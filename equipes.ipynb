{
  "metadata": {
    "language_info": {
      "name": ""
    },
    "kernelspec": {
      "name": "python",
      "display_name": "Python (Pyodide)",
      "language": "python"
    }
  },
  "nbformat_minor": 4,
  "nbformat": 4,
  "cells": [
    {
      "cell_type": "markdown",
      "source": "Programme",
      "metadata": {}
    },
    {
      "cell_type": "code",
      "source": "import pyexcel_ods\nimport random\n\nsession_info.show()\n\n# nom de la feuille que vous voulez atteindre\nnom_feuille = \"Notes consolidées\"\n\n# chemin d'accès au fichier ods\nfile_path = \"Estimatif.ods\"\n\n# Nombre de joueurs\nfile_path = \"Estimatif.ods\"\n\ndef read_ods_file(file_path,nom_feuille):\n    \"\"\"Lecture des données à partir d'un fichier ods\"\"\"\n    data = pyexcel_ods.get_data(file_path)[nom_feuille]\n    sheet = data[0]\n    headers = sheet\n    players_data = [dict(zip(headers, row)) for row in data[1:22]]\n    return players_data\n\ndef sort_players(players_data, key):\n    \"\"\"Trier les joueurs en fonction d'une clé\"\"\"\n    return sorted(players_data, key=lambda x: x[key], reverse=True)\n\ndef choose_best_players(players_data):\n    \"\"\"Choisir les 5 meilleurs joueurs de chaque équipe\"\"\"\n    best_players = []\n    for position in ['Forward', 'Midfielder', 'Defender', 'Goalkeeper']:\n        position_players = [player for player in players_data if player['Poste'].lower() == position]\n        best_players += sorted(position_players, key=lambda x: x['Moyenne'], reverse=True)[:5]\n    return best_players\n\ndef create_teams(file_path,nom_feuille):\n    \"\"\"Créer deux équipes équilibrées à partir d'un fichier ods\"\"\"\n    players_data = read_ods_file(file_path,nom_feuille)\n    \"\"\"Choisir les joueurs présents\"\"\"\n    players = []\n    for player in players_data:\n        if player['Présent'] == True:\n            players.append(player)\n    \"\"\"\"Créer les équipes\"\"\"\n    leveldef1,leveldef2 = 1000, 0\n    for i in range(10000):\n        random.shuffle(players)\n        #classement des joueurs\n        team1, team2 = {\"Goalkeeper\": [], \"Defender\": [], \"Midfielder\": [], \"Forward\": []}, {\"Goalkeeper\": [], \"Defender\": [], \"Midfielder\": [], \"Forward\": []}\n        # équilibrer en position\n        for player in players:\n            if len(team2[player[\"Position\"]]) < len(team1[player[\"Position\"]]) or (len(team1[\"Goalkeeper\"])+len(team1[\"Defender\"])+len(team1[\"Midfielder\"])+len(team1[\"Forward\"])) == 5:\n                team2[player[\"Position\"]].append(player)\n            else:\n                team1[player[\"Position\"]].append(player)\n        # Simplication de la structure\n        team1=team1[\"Goalkeeper\"]+team1[\"Defender\"]+team1[\"Midfielder\"]+team1[\"Forward\"]\n        team2=team2[\"Goalkeeper\"]+team2[\"Defender\"]+team2[\"Midfielder\"]+team2[\"Forward\"]\n        # Vérification de l'équlibre des niveaux\n        level1=sum(player[\"Moyenne\"] for player in team1)\n        level2=sum(player[\"Moyenne\"] for player in team2)\n        if abs(level2-level1)<abs(leveldef1-leveldef2):\n            team1def,team2def = team1,team2\n            leveldef1,leveldef2 = level1,level2\n    return team1, team2\n\ndef afficher(team1,team2):\n    print(\"Team 1 : \",  'Défense=', round(sum(player['Défense'] for player in team1)),\n                        ' Tenue de balle=', round(sum(player['Tenue de balle'] for player in team1)),\n                        ' Régularité=', round(sum(player['Régularité'] for player in team1)),\n                        ' Endurance=', round(sum(player['Endurance'] for player in team1)),\n                        ' Moyenne=', round(sum(player[\"Moyenne\"] for player in team1))\n          )\n    for player in team1:\n        print(player['Joueurs'],\" : \",player['Position'])\n    print()\n    print(\"Team 2 : \",  'Défense=', round(sum(player['Défense'] for player in team2)),\n                        ' Tenue de balle=', round(sum(player['Tenue de balle'] for player in team2)),\n                        ' Régularité=', round(sum(player['Régularité'] for player in team2)),\n                        ' Endurance=', round(sum(player['Endurance'] for player in team2)),\n                        ' Moyenne=', round(sum(player[\"Moyenne\"] for player in team2))\n          )\n    for player in team2:\n        print(player['Joueurs'],\" : \",player['Position'])\n    print()\n\n\nteam1, team2 = create_teams(file_path,nom_feuille)\nafficher(team1,team2)",
      "metadata": {},
      "execution_count": null,
      "outputs": []
    }
  ]
}